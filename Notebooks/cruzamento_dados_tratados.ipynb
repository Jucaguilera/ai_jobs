{
 "cells": [
  {
   "cell_type": "markdown",
   "id": "08ab3a38",
   "metadata": {},
   "source": [
    "# 🔗 Cruzamento de Dados com Datasets Tratados"
   ]
  },
  {
   "cell_type": "code",
   "execution_count": null,
   "id": "087092fe",
   "metadata": {},
   "outputs": [],
   "source": [
    "\n",
    "import pandas as pd\n",
    "\n",
    "# Carregar os arquivos tratados\n",
    "df_jobs = pd.read_csv('/mnt/data/ai_job_dataset_limpo.csv')\n",
    "df_salaries = pd.read_csv('/mnt/data/salaries_limpo.csv')\n",
    "df_market = pd.read_csv('/mnt/data/ai_job_market_insights_limpo.csv')\n"
   ]
  },
  {
   "cell_type": "markdown",
   "id": "e58f924d",
   "metadata": {},
   "source": [
    "## 1. Padronização dos nomes de cargos"
   ]
  },
  {
   "cell_type": "code",
   "execution_count": null,
   "id": "b03a5c02",
   "metadata": {},
   "outputs": [],
   "source": [
    "\n",
    "df_jobs['job_title_norm'] = df_jobs['job_title'].str.lower().str.strip()\n",
    "df_salaries['job_title_norm'] = df_salaries['job_title'].str.lower().str.strip()\n",
    "df_market['Job_Title_norm'] = df_market['Job_Title'].str.lower().str.strip()\n"
   ]
  },
  {
   "cell_type": "markdown",
   "id": "b0ff8622",
   "metadata": {},
   "source": [
    "## 2. Comparação de salários entre os datasets"
   ]
  },
  {
   "cell_type": "code",
   "execution_count": null,
   "id": "a4c8d43e",
   "metadata": {},
   "outputs": [],
   "source": [
    "\n",
    "# Média salarial por cargo\n",
    "media_jobs = df_jobs.groupby('job_title_norm')['salary_usd'].mean().reset_index(name='media_salary_jobs')\n",
    "media_salaries = df_salaries.groupby('job_title_norm')['salary_in_usd'].mean().reset_index(name='media_salary_salaries')\n",
    "\n",
    "# Cruzamento\n",
    "df_comparativo = pd.merge(media_jobs, media_salaries, on='job_title_norm', how='inner')\n",
    "\n",
    "# Diferença percentual\n",
    "df_comparativo['diferenca_percentual'] = (\n",
    "    (df_comparativo['media_salary_jobs'] - df_comparativo['media_salary_salaries']) / df_comparativo['media_salary_salaries']\n",
    ") * 100\n",
    "\n",
    "# Exibir top diferenças\n",
    "df_comparativo.sort_values(by='diferenca_percentual', ascending=False).head(10)\n"
   ]
  },
  {
   "cell_type": "markdown",
   "id": "61b31b29",
   "metadata": {},
   "source": [
    "## 3. Relação entre Adoção de AI e Salários"
   ]
  },
  {
   "cell_type": "code",
   "execution_count": null,
   "id": "67580715",
   "metadata": {},
   "outputs": [],
   "source": [
    "\n",
    "df_market_salary = df_market[['Job_Title_norm', 'AI_Adoption_Level', 'Salary_USD', 'Risco_Automacao_Label']]\n",
    "\n",
    "# Cruzar com salário médio real\n",
    "df_merged_ai = pd.merge(df_market_salary, media_salaries, left_on='Job_Title_norm', right_on='job_title_norm', how='inner')\n",
    "\n",
    "df_merged_ai[['Job_Title_norm', 'AI_Adoption_Level', 'Risco_Automacao_Label', 'Salary_USD', 'media_salary_salaries']].head(10)\n"
   ]
  },
  {
   "cell_type": "markdown",
   "id": "be1b2b1f",
   "metadata": {},
   "source": [
    "## 4. Conclusões Parciais"
   ]
  },
  {
   "cell_type": "markdown",
   "id": "4a4ed17b",
   "metadata": {},
   "source": [
    "\n",
    "- As médias salariais podem variar bastante entre fontes.\n",
    "- Alguns cargos com maior adoção de AI apresentam salários mais elevados.\n",
    "- O risco de automação pode influenciar as projeções e valores de salário em determinadas funções.\n"
   ]
  }
 ],
 "metadata": {},
 "nbformat": 4,
 "nbformat_minor": 5
}
